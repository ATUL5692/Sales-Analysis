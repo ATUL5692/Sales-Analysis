{
  "cells": [
    {
      "cell_type": "code",
      "execution_count": null,
      "id": "6583db34-884e-41bd-a885-3583b93dbea8",
      "metadata": {
        "colab": {
          "base_uri": "https://localhost:8080/",
          "height": 378
        },
        "id": "6583db34-884e-41bd-a885-3583b93dbea8",
        "outputId": "792406a5-9476-4669-b8b3-72a4ed6597c5"
      },
      "outputs": [],
      "source": [
        "import pandas as pd\n",
        "import matplotlib.pyplot as plt\n",
        "import seaborn as sns\n",
        "import mysql.connector\n",
        "\n",
        "db = mysql.connector.connect(host = \"localhost\",\n",
        "                             username = \"root\",\n",
        "                             password = \"M@ngo112\",\n",
        "                             database = \"ECommerce\")\n",
        "\n",
        "cur = db.cursor()"
      ]
    },
    {
      "cell_type": "code",
      "execution_count": null,
      "id": "9cecf7e2",
      "metadata": {},
      "outputs": [],
      "source": []
    },
    {
      "cell_type": "markdown",
      "id": "aab0dac2-9eb6-4fdb-bc6a-c5a3ad5867b4",
      "metadata": {
        "id": "aab0dac2-9eb6-4fdb-bc6a-c5a3ad5867b4"
      },
      "source": [
        "# List all the unique cities where customers are located."
      ]
    },
    {
      "cell_type": "code",
      "execution_count": null,
      "id": "fb411046-8ff3-4613-9fa3-734f0e0ddc56",
      "metadata": {
        "id": "fb411046-8ff3-4613-9fa3-734f0e0ddc56"
      },
      "outputs": [],
      "source": [
        "query = \"\"\" SELECT DISTINCT customer_city from customers \"\"\"\n",
        "\n",
        "cur.execute(query)\n",
        "\n",
        "data = cur.fetchall()\n",
        "\n",
        "data"
      ]
    },
    {
      "cell_type": "markdown",
      "id": "5b7198c8-e676-4be8-b9df-f5a9826d6af2",
      "metadata": {
        "id": "5b7198c8-e676-4be8-b9df-f5a9826d6af2"
      },
      "source": [
        "# Count the numbers of orders placed in 2017."
      ]
    },
    {
      "cell_type": "code",
      "execution_count": null,
      "id": "eed6935e-8f3f-46cb-b0e3-0561df4bdc56",
      "metadata": {
        "id": "eed6935e-8f3f-46cb-b0e3-0561df4bdc56",
        "outputId": "8dcafe90-f73d-484c-9317-0b61d53e4235"
      },
      "outputs": [],
      "source": [
        "query = \"\"\" SELECT COUNT(order_id) FROM orders WHERE year(order_purchase_timestamp) = 2017  \"\"\"\n",
        "\n",
        "cur.execute(query)\n",
        "\n",
        "data = cur.fetchall()\n",
        "\n",
        "\"Total orders placed in 2017 are\", data[0][0]"
      ]
    },
    {
      "cell_type": "code",
      "execution_count": null,
      "id": "8a7b1a0d-a4af-4906-9733-4f04b5c530f2",
      "metadata": {
        "id": "8a7b1a0d-a4af-4906-9733-4f04b5c530f2"
      },
      "outputs": [],
      "source": []
    }
  ],
  "metadata": {
    "colab": {
      "provenance": []
    },
    "kernelspec": {
      "display_name": ".conda",
      "language": "python",
      "name": "python3"
    },
    "language_info": {
      "codemirror_mode": {
        "name": "ipython",
        "version": 3
      },
      "file_extension": ".py",
      "mimetype": "text/x-python",
      "name": "python",
      "nbconvert_exporter": "python",
      "pygments_lexer": "ipython3",
      "version": "3.11.11"
    }
  },
  "nbformat": 4,
  "nbformat_minor": 5
}
