{
  "cells": [
    {
      "cell_type": "code",
      "execution_count": 1,
      "id": "6583db34-884e-41bd-a885-3583b93dbea8",
      "metadata": {
        "id": "6583db34-884e-41bd-a885-3583b93dbea8",
        "outputId": "792406a5-9476-4669-b8b3-72a4ed6597c5",
        "colab": {
          "base_uri": "https://localhost:8080/",
          "height": 378
        }
      },
      "outputs": [
        {
          "output_type": "error",
          "ename": "ModuleNotFoundError",
          "evalue": "No module named 'mysql'",
          "traceback": [
            "\u001b[0;31m---------------------------------------------------------------------------\u001b[0m",
            "\u001b[0;31mModuleNotFoundError\u001b[0m                       Traceback (most recent call last)",
            "\u001b[0;32m<ipython-input-1-15673a937e90>\u001b[0m in \u001b[0;36m<cell line: 0>\u001b[0;34m()\u001b[0m\n\u001b[1;32m      2\u001b[0m \u001b[0;32mimport\u001b[0m \u001b[0mmatplotlib\u001b[0m\u001b[0;34m.\u001b[0m\u001b[0mpyplot\u001b[0m \u001b[0;32mas\u001b[0m \u001b[0mplt\u001b[0m\u001b[0;34m\u001b[0m\u001b[0;34m\u001b[0m\u001b[0m\n\u001b[1;32m      3\u001b[0m \u001b[0;32mimport\u001b[0m \u001b[0mseaborn\u001b[0m \u001b[0;32mas\u001b[0m \u001b[0msns\u001b[0m\u001b[0;34m\u001b[0m\u001b[0;34m\u001b[0m\u001b[0m\n\u001b[0;32m----> 4\u001b[0;31m \u001b[0;32mimport\u001b[0m \u001b[0mmysql\u001b[0m\u001b[0;34m.\u001b[0m\u001b[0mconnector\u001b[0m\u001b[0;34m\u001b[0m\u001b[0;34m\u001b[0m\u001b[0m\n\u001b[0m\u001b[1;32m      5\u001b[0m \u001b[0;34m\u001b[0m\u001b[0m\n\u001b[1;32m      6\u001b[0m db = mysql.connector.connect(host = \"localhost\",\n",
            "\u001b[0;31mModuleNotFoundError\u001b[0m: No module named 'mysql'",
            "",
            "\u001b[0;31m---------------------------------------------------------------------------\u001b[0;32m\nNOTE: If your import is failing due to a missing package, you can\nmanually install dependencies using either !pip or !apt.\n\nTo view examples of installing some common dependencies, click the\n\"Open Examples\" button below.\n\u001b[0;31m---------------------------------------------------------------------------\u001b[0m\n"
          ],
          "errorDetails": {
            "actions": [
              {
                "action": "open_url",
                "actionText": "Open Examples",
                "url": "/notebooks/snippets/importing_libraries.ipynb"
              }
            ]
          }
        }
      ],
      "source": [
        "import pandas as pd\n",
        "import matplotlib.pyplot as plt\n",
        "import seaborn as sns\n",
        "import mysql.connector\n",
        "\n",
        "db = mysql.connector.connect(host = \"localhost\",\n",
        "                             username = \"root\",\n",
        "                             password = \"M@ngo112\",\n",
        "                             database = \"ECommerce\")\n",
        "\n",
        "cur = db.cursor()"
      ]
    },
    {
      "cell_type": "markdown",
      "id": "aab0dac2-9eb6-4fdb-bc6a-c5a3ad5867b4",
      "metadata": {
        "id": "aab0dac2-9eb6-4fdb-bc6a-c5a3ad5867b4"
      },
      "source": [
        "# List all the unique cities where customers are located."
      ]
    },
    {
      "cell_type": "code",
      "execution_count": null,
      "id": "fb411046-8ff3-4613-9fa3-734f0e0ddc56",
      "metadata": {
        "id": "fb411046-8ff3-4613-9fa3-734f0e0ddc56"
      },
      "outputs": [],
      "source": [
        "query = \"\"\" SELECT DISTINCT customer_city from customers \"\"\"\n",
        "\n",
        "cur.execute(query)\n",
        "\n",
        "data = cur.fetchall()\n",
        "\n",
        "data"
      ]
    },
    {
      "cell_type": "markdown",
      "id": "5b7198c8-e676-4be8-b9df-f5a9826d6af2",
      "metadata": {
        "id": "5b7198c8-e676-4be8-b9df-f5a9826d6af2"
      },
      "source": [
        "# Count the numbers of orders placed in 2017."
      ]
    },
    {
      "cell_type": "code",
      "execution_count": null,
      "id": "eed6935e-8f3f-46cb-b0e3-0561df4bdc56",
      "metadata": {
        "id": "eed6935e-8f3f-46cb-b0e3-0561df4bdc56",
        "outputId": "8dcafe90-f73d-484c-9317-0b61d53e4235"
      },
      "outputs": [
        {
          "data": {
            "text/plain": [
              "('Total orders placed in 2017 are', 45101)"
            ]
          },
          "execution_count": 28,
          "metadata": {},
          "output_type": "execute_result"
        }
      ],
      "source": [
        "query = \"\"\" SELECT COUNT(order_id) FROM orders WHERE year(order_purchase_timestamp) = 2017  \"\"\"\n",
        "\n",
        "cur.execute(query)\n",
        "\n",
        "data = cur.fetchall()\n",
        "\n",
        "\"Total orders placed in 2017 are\", data[0][0]"
      ]
    },
    {
      "cell_type": "code",
      "execution_count": null,
      "id": "8a7b1a0d-a4af-4906-9733-4f04b5c530f2",
      "metadata": {
        "id": "8a7b1a0d-a4af-4906-9733-4f04b5c530f2"
      },
      "outputs": [],
      "source": []
    }
  ],
  "metadata": {
    "kernelspec": {
      "display_name": "Python 3 (ipykernel)",
      "language": "python",
      "name": "python3"
    },
    "language_info": {
      "codemirror_mode": {
        "name": "ipython",
        "version": 3
      },
      "file_extension": ".py",
      "mimetype": "text/x-python",
      "name": "python",
      "nbconvert_exporter": "python",
      "pygments_lexer": "ipython3",
      "version": "3.13.1"
    },
    "colab": {
      "provenance": []
    }
  },
  "nbformat": 4,
  "nbformat_minor": 5
}